{
 "cells": [
  {
   "cell_type": "code",
   "execution_count": 1,
   "metadata": {},
   "outputs": [],
   "source": [
    "import pandas as pd"
   ]
  },
  {
   "cell_type": "code",
   "execution_count": 2,
   "metadata": {},
   "outputs": [],
   "source": [
    "df=pd.read_csv(\"cleand.csv\")"
   ]
  },
  {
   "cell_type": "code",
   "execution_count": 3,
   "metadata": {},
   "outputs": [],
   "source": [
    "from sklearn.feature_extraction.text import CountVectorizer\n",
    "vectorizer = CountVectorizer(tokenizer = lambda x: x.split(), binary='true')\n",
    "multilabel_y = vectorizer.fit_transform(df['Tags'])"
   ]
  },
  {
   "cell_type": "code",
   "execution_count": 4,
   "metadata": {},
   "outputs": [
    {
     "data": {
      "text/plain": [
       "((4206307, 42048), <1x42048 sparse matrix of type '<class 'numpy.int64'>'\n",
       " \twith 2 stored elements in Compressed Sparse Row format>)"
      ]
     },
     "execution_count": 4,
     "metadata": {},
     "output_type": "execute_result"
    }
   ],
   "source": [
    "multilabel_y.shape,multilabel_y[0]"
   ]
  },
  {
   "cell_type": "markdown",
   "metadata": {},
   "source": [
    "so there are 42048 tags"
   ]
  },
  {
   "cell_type": "code",
   "execution_count": 5,
   "metadata": {},
   "outputs": [],
   "source": [
    "t = multilabel_y.sum(axis=0).tolist()[0]\n",
    "sorted_tags_i = sorted(range(len(t)), key=lambda i: t[i], reverse=True)\n",
    "def tags_to_choose(n):\n",
    "   \n",
    "    multilabel_yn=multilabel_y[:,sorted_tags_i[:n]]\n",
    "    return multilabel_yn\n",
    "\n",
    "def questions_explained_fn(n):\n",
    "    multilabel_yn = tags_to_choose(n)\n",
    "    x= multilabel_yn.sum(axis=1)\n",
    "    return (np.count_nonzero(x==0))"
   ]
  },
  {
   "cell_type": "code",
   "execution_count": 6,
   "metadata": {},
   "outputs": [
    {
     "data": {
      "text/plain": [
       "3874802"
      ]
     },
     "execution_count": 6,
     "metadata": {},
     "output_type": "execute_result"
    }
   ],
   "source": [
    "import numpy as np\n",
    "questions_explained_fn(1)"
   ]
  },
  {
   "cell_type": "code",
   "execution_count": 7,
   "metadata": {},
   "outputs": [],
   "source": [
    "#multilabel_y.sum(axis=0).tolist()[0]"
   ]
  },
  {
   "cell_type": "code",
   "execution_count": 8,
   "metadata": {},
   "outputs": [
    {
     "data": {
      "text/plain": [
       "(331505, 331505)"
      ]
     },
     "execution_count": 8,
     "metadata": {},
     "output_type": "execute_result"
    }
   ],
   "source": [
    "t[4337],max(t)"
   ]
  },
  {
   "cell_type": "code",
   "execution_count": 9,
   "metadata": {},
   "outputs": [],
   "source": [
    "multilabel_yn = tags_to_choose(10000)\n",
    "x= multilabel_yn.sum(axis=1)\n"
   ]
  },
  {
   "cell_type": "code",
   "execution_count": 10,
   "metadata": {},
   "outputs": [
    {
     "data": {
      "text/plain": [
       "17292"
      ]
     },
     "execution_count": 10,
     "metadata": {},
     "output_type": "execute_result"
    }
   ],
   "source": [
    "(np.count_nonzero(x==0))"
   ]
  },
  {
   "cell_type": "code",
   "execution_count": 11,
   "metadata": {},
   "outputs": [],
   "source": [
    "import numpy as np\n",
    "questions_explained = []\n",
    "total_tags=multilabel_y.shape[1]\n",
    "total_qs=df.shape[0]\n",
    "for i in range(500, total_tags, 100):\n",
    "    questions_explained.append(np.round(((total_qs-questions_explained_fn(i))/total_qs)*100,3))"
   ]
  },
  {
   "cell_type": "code",
   "execution_count": 30,
   "metadata": {},
   "outputs": [
    {
     "data": {
      "image/png": "[encoded data removed]",
      "text/plain": [
       "<Figure size 432x288 with 1 Axes>"
      ]
     },
     "metadata": {
      "needs_background": "light"
     },
     "output_type": "display_data"
    },
    {
     "name": "stdout",
     "output_type": "stream",
     "text": [
      "with  5500 tags we are covering  99.026 % of questions\n"
     ]
    }
   ],
   "source": [
    "import matplotlib.pyplot as plt\n",
    "fig, ax = plt.subplots()\n",
    "ax.plot(questions_explained)\n",
    "xlabel = list(500+np.array(range(-50,450,50))*50)\n",
    "ax.set_xticklabels(xlabel)\n",
    "plt.xlabel(\"Number of tags\")\n",
    "plt.ylabel(\"Percentage Questions coverd partially\")\n",
    "plt.grid()\n",
    "plt.show()\n",
    "# you can choose any number of tags based on your computing power, minimun is 50(it covers 90% of the tags)\n",
    "print(\"with \",5500,\"tags we are covering \",questions_explained[50],\"% of questions\")"
   ]
  },
  {
   "cell_type": "markdown",
   "metadata": {},
   "source": [
    "500 tags are covering 90%"
   ]
  },
  {
   "cell_type": "markdown",
   "metadata": {},
   "source": [
    "# splitting data"
   ]
  },
  {
   "cell_type": "code",
   "execution_count": 14,
   "metadata": {},
   "outputs": [
    {
     "name": "stdout",
     "output_type": "stream",
     "text": [
      "number of questions that are not covered : 418393 out of  4206307\n",
      "Number of tags in sample : 42048\n",
      "number of tags taken : 500 ( 1.189117199391172 %)\n"
     ]
    }
   ],
   "source": [
    "multilabel_yx = tags_to_choose(500)\n",
    "print(\"number of questions that are not covered :\", questions_explained_fn(500),\"out of \", total_qs)\n",
    "print(\"Number of tags in sample :\", multilabel_y.shape[1])\n",
    "print(\"number of tags taken :\", multilabel_yx.shape[1],\"(\",(multilabel_yx.shape[1]/multilabel_y.shape[1])*100,\"%)\")\n",
    "df1=df[:500000]\n",
    "total_size=df1.shape[0]\n",
    "train_size=int(0.80*total_size)\n",
    "\n",
    "x_train=df1[:train_size]\n",
    "x_test=df1[train_size:]\n",
    "\n",
    "y_train = multilabel_yx[0:train_size,:]\n",
    "y_test = multilabel_yx[train_size:total_size,:]"
   ]
  },
  {
   "cell_type": "code",
   "execution_count": 15,
   "metadata": {},
   "outputs": [
    {
     "data": {
      "text/plain": [
       "((400000, 3), (100000, 3), (400000, 500), (100000, 500))"
      ]
     },
     "execution_count": 15,
     "metadata": {},
     "output_type": "execute_result"
    }
   ],
   "source": [
    "x_train.shape,x_test.shape,y_train.shape,y_test.shape"
   ]
  },
  {
   "cell_type": "markdown",
   "metadata": {},
   "source": [
    "# Tfidf for questions "
   ]
  },
  {
   "cell_type": "code",
   "execution_count": 16,
   "metadata": {},
   "outputs": [
    {
     "name": "stdout",
     "output_type": "stream",
     "text": [
      "Time taken to run this cell : 0:02:28.980813\n"
     ]
    }
   ],
   "source": [
    "import datetime as dt\n",
    "start = dt.datetime.now()\n",
    "from sklearn.feature_extraction.text import TfidfVectorizer\n",
    "vectorizer = TfidfVectorizer(min_df=0.00009, max_features=200000, smooth_idf=True, norm=\"l2\", \\\n",
    "                             tokenizer = lambda x: x.split(), sublinear_tf=False, ngram_range=(1,3))\n",
    "x_train_multilabel = vectorizer.fit_transform(x_train['Question'])\n",
    "x_test_multilabel = vectorizer.transform(x_test['Question'])\n",
    "print(\"Time taken to run this cell :\", dt.datetime.now() - start)"
   ]
  },
  {
   "cell_type": "code",
   "execution_count": 17,
   "metadata": {},
   "outputs": [
    {
     "name": "stdout",
     "output_type": "stream",
     "text": [
      "Dimensions of train data X: (400000, 96933) Y : (400000, 500)\n",
      "Dimensions of test data X: (100000, 96933) Y: (100000, 500)\n"
     ]
    }
   ],
   "source": [
    "print(\"Dimensions of train data X:\",x_train_multilabel.shape, \"Y :\",y_train.shape)\n",
    "print(\"Dimensions of test data X:\",x_test_multilabel.shape,\"Y:\",y_test.shape)"
   ]
  },
  {
   "cell_type": "code",
   "execution_count": 18,
   "metadata": {},
   "outputs": [],
   "source": [
    "from sklearn.multiclass import OneVsRestClassifier\n",
    "from sklearn.linear_model import SGDClassifier\n",
    "from sklearn import metrics\n",
    "from sklearn.metrics import f1_score,precision_score,recall_score\n",
    "from sklearn import svm\n",
    "from sklearn.linear_model import LogisticRegression"
   ]
  },
  {
   "cell_type": "code",
   "execution_count": 19,
   "metadata": {},
   "outputs": [
    {
     "name": "stderr",
     "output_type": "stream",
     "text": [
      "C:\\Users\\saireddyavs\\Anaconda3\\envs\\gpuu\\lib\\site-packages\\joblib\\externals\\loky\\process_executor.py:706: UserWarning: A worker stopped while some jobs were given to the executor. This can be caused by a too short worker timeout or by a memory leak.\n",
      "  \"timeout or by a memory leak.\", UserWarning\n"
     ]
    },
    {
     "name": "stdout",
     "output_type": "stream",
     "text": [
      "Time taken to run this cell : 1:00:15.546768\n"
     ]
    }
   ],
   "source": [
    "start = dt.datetime.now()\n",
    "classifier = OneVsRestClassifier(LogisticRegression(penalty='l1'), n_jobs=-1)\n",
    "classifier.fit(x_train_multilabel, y_train)\n",
    "print(\"Time taken to run this cell :\", dt.datetime.now() - start)"
   ]
  },
  {
   "cell_type": "code",
   "execution_count": 21,
   "metadata": {},
   "outputs": [
    {
     "name": "stdout",
     "output_type": "stream",
     "text": [
      "Accuracy : 0.23986\n",
      "Hamming loss  0.00280388\n",
      "Micro-average quality numbers\n",
      "Precision: 0.6893, Recall: 0.3567, F1-measure: 0.4701\n",
      "Macro-average quality numbers\n",
      "Precision: 0.5283, Recall: 0.2823, F1-measure: 0.3535\n",
      "              precision    recall  f1-score   support\n",
      "\n",
      "           0       0.64      0.36      0.46      8189\n",
      "           1       0.78      0.40      0.53      6529\n",
      "           2       0.83      0.53      0.65      5086\n",
      "           3       0.77      0.44      0.56      6430\n",
      "           4       0.94      0.77      0.84      5519\n",
      "           5       0.86      0.60      0.71      4533\n",
      "           6       0.71      0.43      0.54      3231\n",
      "           7       0.87      0.59      0.71      2548\n",
      "           8       0.67      0.39      0.49      3009\n",
      "           9       0.79      0.43      0.56      2879\n",
      "          10       0.86      0.62      0.72      2151\n",
      "          11       0.57      0.19      0.28      3051\n",
      "          12       0.51      0.14      0.22      3000\n",
      "          13       0.58      0.28      0.38      2630\n",
      "          14       0.64      0.24      0.35      2371\n",
      "          15       0.47      0.23      0.31      1513\n",
      "          16       0.79      0.61      0.69      2765\n",
      "          17       0.75      0.51      0.61      1860\n",
      "          18       0.55      0.24      0.34      2204\n",
      "          19       0.64      0.25      0.36      1426\n",
      "          20       0.27      0.08      0.13      2023\n",
      "          21       0.70      0.40      0.51      1208\n",
      "          22       0.58      0.34      0.43      1291\n",
      "          23       0.89      0.59      0.71      1207\n",
      "          24       0.62      0.38      0.47       793\n",
      "          25       0.64      0.42      0.51       831\n",
      "          26       0.83      0.66      0.73       468\n",
      "          27       0.26      0.08      0.12       732\n",
      "          28       0.62      0.25      0.36       873\n",
      "          29       0.61      0.24      0.34      1058\n",
      "          30       0.91      0.70      0.79       724\n",
      "          31       0.53      0.27      0.36       506\n",
      "          32       0.57      0.32      0.41      1132\n",
      "          33       0.75      0.31      0.44       766\n",
      "          34       0.55      0.24      0.33      1645\n",
      "          35       0.79      0.52      0.63       946\n",
      "          36       0.70      0.49      0.58       496\n",
      "          37       0.78      0.61      0.68       785\n",
      "          38       0.33      0.10      0.15       660\n",
      "          39       0.35      0.13      0.19       350\n",
      "          40       0.36      0.10      0.16       305\n",
      "          41       0.61      0.34      0.43       570\n",
      "          42       0.63      0.27      0.38       644\n",
      "          43       0.60      0.36      0.45       914\n",
      "          44       0.39      0.11      0.17       852\n",
      "          45       0.43      0.08      0.13       504\n",
      "          46       0.19      0.04      0.07       475\n",
      "          47       0.56      0.14      0.22       748\n",
      "          48       0.45      0.24      0.31       821\n",
      "          49       0.41      0.03      0.05       258\n",
      "          50       0.63      0.37      0.47       466\n",
      "          51       0.45      0.11      0.18       541\n",
      "          52       0.90      0.73      0.81       718\n",
      "          53       0.69      0.47      0.56       433\n",
      "          54       0.34      0.10      0.16       429\n",
      "          55       0.51      0.24      0.33       174\n",
      "          56       0.62      0.44      0.52       626\n",
      "          57       0.19      0.04      0.07       252\n",
      "          58       0.74      0.48      0.58       401\n",
      "          59       0.39      0.15      0.22       728\n",
      "          60       0.74      0.48      0.58       463\n",
      "          61       0.89      0.74      0.81       613\n",
      "          62       0.31      0.08      0.13       573\n",
      "          63       0.89      0.57      0.69       453\n",
      "          64       0.87      0.27      0.41       335\n",
      "          65       0.74      0.57      0.65       408\n",
      "          66       0.35      0.10      0.16       406\n",
      "          67       0.63      0.22      0.33       479\n",
      "          68       0.50      0.36      0.42       425\n",
      "          69       0.71      0.44      0.55       534\n",
      "          70       0.85      0.42      0.56       501\n",
      "          71       0.76      0.50      0.61       510\n",
      "          72       0.63      0.03      0.05       473\n",
      "          73       0.72      0.24      0.36       461\n",
      "          74       0.90      0.62      0.74       346\n",
      "          75       0.57      0.44      0.49       317\n",
      "          76       0.51      0.32      0.39       409\n",
      "          77       0.73      0.51      0.60       396\n",
      "          78       0.29      0.02      0.04       298\n",
      "          79       0.27      0.08      0.12       305\n",
      "          80       0.62      0.35      0.45       441\n",
      "          81       0.73      0.39      0.51       283\n",
      "          82       0.74      0.50      0.60       347\n",
      "          83       0.37      0.08      0.14       277\n",
      "          84       0.96      0.59      0.73       347\n",
      "          85       0.45      0.23      0.31       273\n",
      "          86       0.86      0.59      0.70       322\n",
      "          87       0.61      0.26      0.36       313\n",
      "          88       0.67      0.49      0.56       274\n",
      "          89       0.85      0.48      0.61       316\n",
      "          90       0.71      0.52      0.60       210\n",
      "          91       0.44      0.08      0.14       266\n",
      "          92       0.71      0.50      0.59       370\n",
      "          93       0.74      0.48      0.58       389\n",
      "          94       0.54      0.14      0.22       324\n",
      "          95       0.51      0.09      0.15       325\n",
      "          96       0.52      0.38      0.44       218\n",
      "          97       0.94      0.67      0.78       219\n",
      "          98       0.88      0.63      0.74       202\n",
      "          99       0.53      0.09      0.16       281\n",
      "         100       0.82      0.76      0.79       362\n",
      "         101       0.30      0.06      0.10       415\n",
      "         102       0.49      0.24      0.33       344\n",
      "         103       0.90      0.75      0.82       277\n",
      "         104       0.88      0.68      0.77       298\n",
      "         105       0.30      0.04      0.07       410\n",
      "         106       0.42      0.19      0.26       149\n",
      "         107       0.26      0.03      0.06       317\n",
      "         108       0.35      0.13      0.19       166\n",
      "         109       0.65      0.48      0.55       241\n",
      "         110       0.80      0.46      0.58       287\n",
      "         111       0.56      0.24      0.34       420\n",
      "         112       0.67      0.40      0.50       318\n",
      "         113       0.50      0.31      0.38       279\n",
      "         114       0.61      0.36      0.45       274\n",
      "         115       0.59      0.10      0.18       350\n",
      "         116       0.39      0.16      0.23       165\n",
      "         117       0.55      0.28      0.37       251\n",
      "         118       0.90      0.74      0.81       230\n",
      "         119       0.45      0.15      0.23       332\n",
      "         120       0.27      0.08      0.12       295\n",
      "         121       0.61      0.07      0.13       187\n",
      "         122       0.53      0.28      0.37       461\n",
      "         123       0.76      0.42      0.54       290\n",
      "         124       0.95      0.77      0.85       255\n",
      "         125       0.93      0.69      0.79       266\n",
      "         126       0.82      0.61      0.70       170\n",
      "         127       0.65      0.31      0.43       216\n",
      "         128       0.44      0.18      0.25       247\n",
      "         129       0.37      0.07      0.11       245\n",
      "         130       0.42      0.20      0.27       309\n",
      "         131       0.42      0.04      0.08       251\n",
      "         132       0.36      0.08      0.14       284\n",
      "         133       0.18      0.02      0.04       361\n",
      "         134       0.65      0.40      0.49       230\n",
      "         135       0.75      0.58      0.65       427\n",
      "         136       0.57      0.45      0.50       185\n",
      "         137       0.51      0.34      0.40       193\n",
      "         138       0.60      0.31      0.41       197\n",
      "         139       0.36      0.12      0.18       232\n",
      "         140       0.87      0.59      0.70       227\n",
      "         141       0.27      0.03      0.06       210\n",
      "         142       0.00      0.00      0.00       256\n",
      "         143       0.51      0.21      0.29       231\n",
      "         144       0.74      0.56      0.64       263\n",
      "         145       0.52      0.31      0.39       239\n",
      "         146       0.69      0.29      0.41       128\n",
      "         147       0.65      0.27      0.38       269\n",
      "         148       0.15      0.03      0.05       122\n",
      "         149       0.94      0.77      0.85       136\n",
      "         150       0.08      0.02      0.03       182\n",
      "         151       0.59      0.15      0.24       235\n",
      "         152       0.21      0.04      0.07       229\n",
      "         153       0.50      0.15      0.23       218\n",
      "         154       0.51      0.25      0.34       191\n",
      "         155       0.60      0.15      0.24       243\n",
      "         156       0.31      0.12      0.17       129\n",
      "         157       0.91      0.73      0.81       230\n",
      "         158       0.78      0.54      0.64       387\n",
      "         159       0.41      0.25      0.31        93\n",
      "         160       0.41      0.13      0.20       134\n",
      "         161       0.29      0.08      0.13       193\n",
      "         162       0.46      0.25      0.32       323\n",
      "         163       0.42      0.19      0.26       258\n",
      "         164       0.76      0.40      0.52       136\n",
      "         165       0.95      0.67      0.79       198\n",
      "         166       0.50      0.17      0.26       150\n",
      "         167       0.42      0.15      0.22       138\n",
      "         168       0.64      0.49      0.56       217\n",
      "         169       0.42      0.30      0.35       143\n",
      "         170       0.51      0.29      0.37       217\n",
      "         171       0.53      0.14      0.22       172\n",
      "         172       0.24      0.05      0.09        91\n",
      "         173       0.70      0.46      0.56       175\n",
      "         174       0.87      0.71      0.78       264\n",
      "         175       0.65      0.40      0.49       120\n",
      "         176       0.88      0.70      0.78       169\n",
      "         177       0.66      0.44      0.53       154\n",
      "         178       0.54      0.24      0.33       144\n",
      "         179       0.80      0.49      0.61       376\n",
      "         180       0.35      0.13      0.19       370\n",
      "         181       0.31      0.17      0.22        93\n",
      "         182       0.63      0.50      0.56       232\n",
      "         183       0.59      0.13      0.22       219\n",
      "         184       0.10      0.01      0.02       216\n",
      "         185       0.26      0.06      0.09       160\n",
      "         186       0.91      0.75      0.82       212\n",
      "         187       0.17      0.01      0.03       216\n",
      "         188       0.17      0.04      0.06       112\n",
      "         189       0.68      0.40      0.50       145\n",
      "         190       0.59      0.17      0.27       400\n",
      "         191       0.49      0.26      0.34       184\n",
      "         192       0.38      0.04      0.07        80\n",
      "         193       0.37      0.21      0.27       135\n",
      "         194       0.44      0.17      0.25       336\n",
      "         195       0.77      0.50      0.60       206\n",
      "         196       0.96      0.68      0.80       150\n",
      "         197       0.92      0.58      0.71       136\n",
      "         198       0.81      0.48      0.61       161\n",
      "         199       0.83      0.54      0.65       140\n",
      "         200       0.37      0.13      0.19       174\n",
      "         201       0.47      0.20      0.28       293\n",
      "         202       0.76      0.60      0.67       874\n",
      "         203       0.31      0.11      0.16       202\n",
      "         204       0.79      0.44      0.56       190\n",
      "         205       0.36      0.03      0.05       141\n",
      "         206       0.62      0.44      0.52        72\n",
      "         207       0.39      0.12      0.19       139\n",
      "         208       0.26      0.08      0.12       232\n",
      "         209       0.36      0.05      0.08       211\n",
      "         210       0.21      0.01      0.03       200\n",
      "         211       0.36      0.07      0.11       242\n",
      "         212       0.72      0.34      0.46       210\n",
      "         213       0.59      0.35      0.44       145\n",
      "         214       0.58      0.34      0.43       144\n",
      "         215       0.33      0.05      0.08       145\n",
      "         216       0.90      0.75      0.82       154\n",
      "         217       0.71      0.43      0.53       334\n",
      "         218       0.70      0.36      0.47       208\n",
      "         219       0.78      0.46      0.58       150\n",
      "         220       0.65      0.50      0.56       217\n",
      "         221       0.45      0.10      0.16       103\n",
      "         222       0.31      0.14      0.20       228\n",
      "         223       0.91      0.76      0.83       156\n",
      "         224       0.69      0.29      0.41       154\n",
      "         225       0.60      0.33      0.43       120\n",
      "         226       0.40      0.13      0.19       150\n",
      "         227       0.55      0.40      0.46       232\n",
      "         228       0.65      0.31      0.42       159\n",
      "         229       0.48      0.10      0.16       104\n",
      "         230       0.92      0.69      0.79       178\n",
      "         231       0.31      0.12      0.17       164\n",
      "         232       0.26      0.03      0.05       235\n",
      "         233       0.24      0.05      0.08       156\n",
      "         234       0.72      0.50      0.59       159\n",
      "         235       0.12      0.02      0.03       131\n",
      "         236       0.27      0.15      0.19       119\n",
      "         237       0.55      0.10      0.17       123\n",
      "         238       0.65      0.46      0.53       169\n",
      "         239       0.31      0.13      0.18        62\n",
      "         240       0.72      0.57      0.64       136\n",
      "         241       0.58      0.31      0.40       276\n",
      "         242       0.33      0.06      0.11       191\n",
      "         243       0.80      0.40      0.53       113\n",
      "         244       0.48      0.16      0.24       103\n",
      "         245       0.08      0.01      0.01       128\n",
      "         246       0.83      0.54      0.65       195\n",
      "         247       0.24      0.12      0.16       134\n",
      "         248       0.65      0.32      0.43       220\n",
      "         249       0.65      0.09      0.17       116\n",
      "         250       0.56      0.38      0.45       148\n",
      "         251       0.33      0.03      0.05       140\n",
      "         252       0.79      0.62      0.70       104\n",
      "         253       0.59      0.41      0.48       164\n",
      "         254       0.52      0.26      0.35       257\n",
      "         255       0.07      0.01      0.02       115\n",
      "         256       0.62      0.42      0.50       101\n",
      "         257       0.65      0.49      0.56        71\n",
      "         258       0.87      0.69      0.77       129\n",
      "         259       0.47      0.18      0.26        77\n",
      "         260       0.36      0.15      0.21       269\n",
      "         261       0.42      0.14      0.21        58\n",
      "         262       0.44      0.17      0.24       157\n",
      "         263       0.84      0.34      0.49       134\n",
      "         264       0.24      0.05      0.09       248\n",
      "         265       0.51      0.27      0.35       109\n",
      "         266       0.78      0.45      0.57        87\n",
      "         267       0.11      0.01      0.01       155\n",
      "         268       0.00      0.00      0.00        78\n",
      "         269       0.26      0.05      0.08       130\n",
      "         270       0.75      0.37      0.49       130\n",
      "         271       0.61      0.37      0.46       134\n",
      "         272       0.27      0.09      0.14       159\n",
      "         273       0.71      0.38      0.50       107\n",
      "         274       0.71      0.48      0.57       104\n",
      "         275       0.84      0.61      0.71       220\n",
      "         276       0.62      0.37      0.47       396\n",
      "         277       0.44      0.12      0.19       132\n",
      "         278       0.73      0.37      0.49       143\n",
      "         279       0.86      0.71      0.78       195\n",
      "         280       0.95      0.83      0.88        86\n",
      "         281       0.53      0.33      0.41       138\n",
      "         282       0.00      0.00      0.00       134\n",
      "         283       0.43      0.16      0.23        93\n",
      "         284       0.73      0.58      0.65       156\n",
      "         285       0.20      0.03      0.06       260\n",
      "         286       0.33      0.03      0.05        71\n",
      "         287       0.35      0.12      0.17        60\n",
      "         288       0.32      0.09      0.14       101\n",
      "         289       0.15      0.03      0.05        67\n",
      "         290       0.87      0.67      0.75       177\n",
      "         291       0.55      0.04      0.08       140\n",
      "         292       0.20      0.02      0.04       124\n",
      "         293       0.38      0.14      0.21       125\n",
      "         294       0.00      0.00      0.00       126\n",
      "         295       0.49      0.23      0.31       114\n",
      "         296       0.46      0.29      0.35       125\n",
      "         297       0.85      0.77      0.81       124\n",
      "         298       0.40      0.11      0.17        93\n",
      "         299       0.74      0.55      0.63       148\n",
      "         300       0.51      0.20      0.29       118\n",
      "         301       0.34      0.15      0.21       107\n",
      "         302       0.04      0.02      0.03        56\n",
      "         303       0.89      0.79      0.84       140\n",
      "         304       0.38      0.08      0.13        98\n",
      "         305       0.12      0.01      0.02        86\n",
      "         306       0.45      0.27      0.34        48\n",
      "         307       0.33      0.10      0.16       125\n",
      "         308       0.43      0.28      0.34        90\n",
      "         309       0.59      0.20      0.30        79\n",
      "         310       0.51      0.16      0.24       115\n",
      "         311       0.60      0.16      0.25        56\n",
      "         312       0.10      0.02      0.03       116\n",
      "         313       0.60      0.37      0.46        83\n",
      "         314       0.28      0.09      0.14        98\n",
      "         315       0.17      0.03      0.05       219\n",
      "         316       0.45      0.25      0.32       228\n",
      "         317       0.41      0.13      0.20       107\n",
      "         318       0.48      0.11      0.18       125\n",
      "         319       1.00      0.02      0.04        54\n",
      "         320       0.84      0.58      0.69       115\n",
      "         321       0.38      0.02      0.03       167\n",
      "         322       0.71      0.52      0.60       118\n",
      "         323       0.34      0.20      0.25        89\n",
      "         324       0.53      0.14      0.22       162\n",
      "         325       0.72      0.35      0.47       162\n",
      "         326       0.54      0.22      0.31       195\n",
      "         327       0.47      0.31      0.37        81\n",
      "         328       0.15      0.05      0.08       111\n",
      "         329       0.10      0.02      0.03       126\n",
      "         330       0.57      0.35      0.44       176\n",
      "         331       0.35      0.11      0.16       141\n",
      "         332       0.71      0.35      0.47       158\n",
      "         333       0.72      0.51      0.60        61\n",
      "         334       0.21      0.08      0.11       104\n",
      "         335       0.25      0.09      0.13       123\n",
      "         336       0.25      0.03      0.05        72\n",
      "         337       0.50      0.29      0.36        63\n",
      "         338       0.53      0.09      0.15        94\n",
      "         339       0.35      0.06      0.10       134\n",
      "         340       0.33      0.04      0.07        73\n",
      "         341       0.57      0.16      0.25       100\n",
      "         342       0.55      0.25      0.35        91\n",
      "         343       0.63      0.36      0.46       159\n",
      "         344       0.53      0.25      0.34        68\n",
      "         345       0.22      0.10      0.14       241\n",
      "         346       0.59      0.38      0.46        93\n",
      "         347       0.12      0.03      0.05        66\n",
      "         348       0.64      0.38      0.48       167\n",
      "         349       0.05      0.01      0.02       108\n",
      "         350       0.62      0.38      0.47        73\n",
      "         351       0.29      0.13      0.18        63\n",
      "         352       0.38      0.21      0.28       140\n",
      "         353       0.53      0.36      0.43       130\n",
      "         354       0.30      0.10      0.15        72\n",
      "         355       0.57      0.24      0.33        72\n",
      "         356       0.40      0.20      0.27       197\n",
      "         357       0.78      0.57      0.66       109\n",
      "         358       0.49      0.27      0.35        77\n",
      "         359       0.83      0.55      0.66       109\n",
      "         360       0.89      0.73      0.81       113\n",
      "         361       0.86      0.56      0.68       122\n",
      "         362       0.91      0.51      0.65        77\n",
      "         363       0.35      0.10      0.16       119\n",
      "         364       0.22      0.02      0.03       114\n",
      "         365       0.18      0.03      0.05        71\n",
      "         366       0.26      0.06      0.09       104\n",
      "         367       0.24      0.11      0.15        76\n",
      "         368       0.66      0.36      0.47       269\n",
      "         369       0.61      0.29      0.39       106\n",
      "         370       0.48      0.10      0.16       143\n",
      "         371       0.98      0.66      0.79        64\n",
      "         372       0.92      0.80      0.85        99\n",
      "         373       0.72      0.46      0.56       116\n",
      "         374       0.60      0.36      0.45        74\n",
      "         375       0.19      0.07      0.10        72\n",
      "         376       0.85      0.52      0.65        79\n",
      "         377       0.60      0.15      0.24        81\n",
      "         378       0.77      0.56      0.65       129\n",
      "         379       0.19      0.02      0.04       129\n",
      "         380       0.06      0.02      0.03        59\n",
      "         381       0.90      0.53      0.66       120\n",
      "         382       0.31      0.11      0.16        71\n",
      "         383       0.36      0.20      0.25        82\n",
      "         384       0.32      0.07      0.11       138\n",
      "         385       0.52      0.16      0.25        79\n",
      "         386       0.63      0.31      0.42        87\n",
      "         387       0.17      0.01      0.02       105\n",
      "         388       0.40      0.05      0.09        40\n",
      "         389       0.22      0.07      0.11        72\n",
      "         390       0.45      0.26      0.32        98\n",
      "         391       0.33      0.06      0.10       129\n",
      "         392       0.84      0.53      0.65        70\n",
      "         393       0.58      0.30      0.40       107\n",
      "         394       0.10      0.03      0.05        58\n",
      "         395       0.94      0.76      0.84       118\n",
      "         396       0.23      0.07      0.11        99\n",
      "         397       0.70      0.61      0.65        77\n",
      "         398       0.39      0.30      0.34       143\n",
      "         399       0.28      0.09      0.13        91\n",
      "         400       0.00      0.00      0.00        44\n",
      "         401       0.48      0.14      0.22       108\n",
      "         402       0.37      0.06      0.11       112\n",
      "         403       0.66      0.45      0.54        93\n",
      "         404       0.43      0.10      0.17        58\n",
      "         405       0.00      0.00      0.00        61\n",
      "         406       0.81      0.61      0.70       176\n",
      "         407       0.37      0.12      0.18       114\n",
      "         408       0.00      0.00      0.00        81\n",
      "         409       0.19      0.06      0.09        83\n",
      "         410       0.35      0.08      0.13       110\n",
      "         411       0.29      0.03      0.06        59\n",
      "         412       0.09      0.02      0.03       161\n",
      "         413       0.44      0.05      0.09        79\n",
      "         414       0.26      0.05      0.09       176\n",
      "         415       0.30      0.05      0.08        65\n",
      "         416       0.68      0.52      0.59       133\n",
      "         417       0.23      0.14      0.18       104\n",
      "         418       0.35      0.04      0.08       160\n",
      "         419       0.22      0.13      0.16        38\n",
      "         420       0.71      0.51      0.60        68\n",
      "         421       0.48      0.10      0.16       101\n",
      "         422       0.30      0.11      0.16       175\n",
      "         423       0.57      0.18      0.28        71\n",
      "         424       0.80      0.41      0.54        39\n",
      "         425       0.71      0.32      0.44       112\n",
      "         426       0.73      0.68      0.70       130\n",
      "         427       0.50      0.32      0.39       527\n",
      "         428       0.85      0.64      0.73       103\n",
      "         429       0.81      0.47      0.59       111\n",
      "         430       0.97      0.66      0.79        56\n",
      "         431       0.23      0.06      0.09        86\n",
      "         432       0.60      0.23      0.33       126\n",
      "         433       0.46      0.31      0.37        81\n",
      "         434       0.57      0.13      0.21        94\n",
      "         435       0.26      0.07      0.10        92\n",
      "         436       0.59      0.36      0.45        88\n",
      "         437       0.64      0.44      0.52        68\n",
      "         438       0.71      0.39      0.51       132\n",
      "         439       0.37      0.17      0.24       155\n",
      "         440       0.73      0.41      0.52       106\n",
      "         441       0.48      0.31      0.38        83\n",
      "         442       0.47      0.09      0.15        81\n",
      "         443       0.10      0.01      0.02        70\n",
      "         444       0.60      0.40      0.48        62\n",
      "         445       0.39      0.16      0.23        74\n",
      "         446       0.78      0.48      0.60        66\n",
      "         447       0.40      0.09      0.15        67\n",
      "         448       0.48      0.22      0.30        90\n",
      "         449       0.48      0.38      0.42        69\n",
      "         450       0.17      0.02      0.03        63\n",
      "         451       0.09      0.03      0.04        72\n",
      "         452       0.49      0.31      0.38       146\n",
      "         453       0.60      0.38      0.46        40\n",
      "         454       0.96      0.77      0.85        91\n",
      "         455       0.00      0.00      0.00        73\n",
      "         456       0.60      0.34      0.43        80\n",
      "         457       0.85      0.48      0.62       120\n",
      "         458       0.00      0.00      0.00       115\n",
      "         459       0.00      0.00      0.00        65\n",
      "         460       0.75      0.36      0.48        84\n",
      "         461       0.53      0.11      0.19        89\n",
      "         462       0.04      0.01      0.01       117\n",
      "         463       0.53      0.21      0.30        47\n",
      "         464       0.77      0.27      0.40        64\n",
      "         465       0.12      0.05      0.07        44\n",
      "         466       0.72      0.41      0.52        68\n",
      "         467       0.31      0.12      0.17        92\n",
      "         468       0.42      0.25      0.31        76\n",
      "         469       0.47      0.38      0.42       150\n",
      "         470       0.55      0.38      0.45        77\n",
      "         471       0.50      0.35      0.41        80\n",
      "         472       0.91      0.72      0.80       166\n",
      "         473       0.38      0.04      0.07        72\n",
      "         474       0.82      0.56      0.67        71\n",
      "         475       0.41      0.16      0.23        99\n",
      "         476       0.21      0.06      0.10        62\n",
      "         477       0.59      0.32      0.41       173\n",
      "         478       0.71      0.38      0.49        85\n",
      "         479       0.35      0.14      0.21        83\n",
      "         480       0.96      0.77      0.85        65\n",
      "         481       0.44      0.21      0.29        84\n",
      "         482       0.46      0.22      0.29        79\n",
      "         483       0.52      0.19      0.28        57\n",
      "         484       0.16      0.03      0.05        97\n",
      "         485       0.00      0.00      0.00        51\n",
      "         486       0.65      0.51      0.57        65\n",
      "         487       0.98      0.46      0.62        98\n",
      "         488       0.50      0.25      0.33        57\n",
      "         489       0.43      0.04      0.07        77\n",
      "         490       0.40      0.02      0.05        82\n",
      "         491       0.93      0.74      0.82        95\n",
      "         492       0.85      0.60      0.70        67\n",
      "         493       0.50      0.01      0.02        81\n",
      "         494       0.72      0.37      0.49       105\n",
      "         495       0.29      0.10      0.15        92\n",
      "         496       0.41      0.13      0.20        67\n",
      "         497       0.25      0.06      0.09        54\n",
      "         498       0.20      0.01      0.03        74\n",
      "         499       0.95      0.58      0.72        71\n",
      "\n",
      "   micro avg       0.69      0.36      0.47    174350\n",
      "   macro avg       0.53      0.28      0.35    174350\n",
      "weighted avg       0.63      0.36      0.44    174350\n",
      " samples avg       0.44      0.34      0.36    174350\n",
      "\n",
      "Time taken to run this cell : 0:00:17.572654\n"
     ]
    }
   ],
   "source": [
    "start=dt.datetime.now()\n",
    "predictions = classifier.predict(x_test_multilabel)\n",
    "print(\"Accuracy :\",metrics.accuracy_score(y_test, predictions))\n",
    "print(\"Hamming loss \",metrics.hamming_loss(y_test,predictions))\n",
    "\n",
    "\n",
    "precision = precision_score(y_test, predictions, average='micro')\n",
    "recall = recall_score(y_test, predictions, average='micro')\n",
    "f1 = f1_score(y_test, predictions, average='micro')\n",
    " \n",
    "print(\"Micro-average quality numbers\")\n",
    "print(\"Precision: {:.4f}, Recall: {:.4f}, F1-measure: {:.4f}\".format(precision, recall, f1))\n",
    "\n",
    "precision = precision_score(y_test, predictions, average='macro')\n",
    "recall = recall_score(y_test, predictions, average='macro')\n",
    "f1 = f1_score(y_test, predictions, average='macro')\n",
    " \n",
    "print(\"Macro-average quality numbers\")\n",
    "print(\"Precision: {:.4f}, Recall: {:.4f}, F1-measure: {:.4f}\".format(precision, recall, f1))\n",
    "\n",
    "print (metrics.classification_report(y_test, predictions))\n",
    "print(\"Time taken to run this cell :\", dt.datetime.now() - start)"
   ]
  },
  {
   "cell_type": "code",
   "execution_count": 22,
   "metadata": {},
   "outputs": [],
   "source": [
    "import joblib"
   ]
  },
  {
   "cell_type": "code",
   "execution_count": 23,
   "metadata": {},
   "outputs": [
    {
     "data": {
      "text/plain": [
       "['logistic_regression.pkl']"
      ]
     },
     "execution_count": 23,
     "metadata": {},
     "output_type": "execute_result"
    }
   ],
   "source": [
    "joblib.dump(classifier, 'logistic_regression.pkl')"
   ]
  },
  {
   "cell_type": "code",
   "execution_count": null,
   "metadata": {},
   "outputs": [],
   "source": []
  }
 ],
 "metadata": {
  "kernelspec": {
   "display_name": "gpuu",
   "language": "python",
   "name": "gpuu"
  },
  "language_info": {
   "codemirror_mode": {
    "name": "ipython",
    "version": 3
   },
   "file_extension": ".py",
   "mimetype": "text/x-python",
   "name": "python",
   "nbconvert_exporter": "python",
   "pygments_lexer": "ipython3",
   "version": "3.7.3"
  }
 },
 "nbformat": 4,
 "nbformat_minor": 2
}
